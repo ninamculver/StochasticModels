{
 "cells": [
  {
   "cell_type": "code",
   "execution_count": 4,
   "metadata": {
    "collapsed": false
   },
   "outputs": [
    {
     "data": {
      "text/plain": [
       "<function __main__.ltxmtx>"
      ]
     },
     "execution_count": 4,
     "metadata": {},
     "output_type": "execute_result"
    }
   ],
   "source": [
    "from IPython.display import display, Latex, Math, Markdown\n",
    "import numpy as np\n",
    "import sympy as sym\n",
    "import fractions\n",
    "import matplotlib.pyplot as plt\n",
    "sym.init_printing()\n",
    "def printltx(s):\n",
    "    try: \n",
    "        display(Latex(s))\n",
    "    except: \n",
    "        print(s)\n",
    "def ltxmtx(A, axis = 1):\n",
    "        try: \n",
    "            if isinstance(A, np.ndarray):\n",
    "                A = A.round(4)\n",
    "            M = sym.Matrix(A)\n",
    "            sh = np.array(M.shape)\n",
    "            sz = np.prod(sh)\n",
    "            if sz == np.max(sh):\n",
    "                if axis == 0:\n",
    "                    M=M.reshape(sz,1)\n",
    "                else:\n",
    "                    M=M.reshape(1,sz)\n",
    "            return \" $\"+ sym.latex(M) + \"$ \"\n",
    "        except: \n",
    "            return A\n",
    "        \n",
    "array_f = get_ipython().display_formatter.formatters['text/latex']\n",
    "array_f.for_type('numpy.ndarray',ltxmtx)\n",
    "array_f.for_type('sympy.matrices.dense.MutableDenseMatrix', ltxmtx)"
   ]
  },
  {
   "cell_type": "code",
   "execution_count": 5,
   "metadata": {
    "collapsed": false
   },
   "outputs": [],
   "source": [
    "##############\n",
    "###METHOD 1###\n",
    "##############\n",
    "\n",
    "\n",
    "def simulate_samples(P,phi,Steps,Records,Samples):\n",
    "    print(\"\\n\")\n",
    "    printltx(r\"Begin the First Method\")\n",
    "    printltx(r\"Simulating \"+str(Steps)+\" steps with \"+str(Samples)+\" samples.\")\n",
    "    epdf = np.zeros([Records, States], dtype = float)\n",
    "    epdf[0,:] = phi[:]\n",
    "    \n",
    "    y = np.rint(phi*Samples).astype(int)\n",
    "    Samples = np.sum(y)\n",
    "    X = np.zeros([Records,Samples], dtype = int)\n",
    "    X[0,:] = np.random.choice(States, Samples, p=phi)\n",
    "    \n",
    "    startStep = 0\n",
    "    stable = False\n",
    "    absorbtime= np.array(range(Samples))\n",
    "    \n",
    "    while (startStep < Steps) and (stable == False) :\n",
    "        current_step = step%Records \n",
    "        next_step = (step+1)%Records\n",
    "        for samp in range(Samples):\n",
    "            if absorption_matrix[next_step, samp] == 0:\n",
    "                (X[next_step, samp], absorbed) = self.calculate_next_state(X[current_step, samp])\n",
    "                if absorbed:\n",
    "                    absorption_matrix[next_step, samp] =1\n",
    "                    step_counter[next_step, samp] = step_counter[curent_step, samp]\n",
    "                else: \n",
    "                    absorption_matrix[next_step, samp] = 0\n",
    "                    step_counter[next_step,samp] = step_counter[current_step, samp]+1\n",
    "            else:\n",
    "                X[next_step, samp] = X[current_step, samp]\n",
    "                absorption_matrix[next_step, samp] = absorption_matrix[current_step, samp]\n",
    "        epdf[next_step,:] = np.histogram(X[next_step,:], normed = True, bins = range(States+1))[0]\n",
    "        step+=1\n",
    "        if np.sum(absorption_matrix[next_step, :]) == self.samples:\n",
    "                    stable = True\n",
    "    epdf = np.roll(epdf, Records-next_step-1, axis = 0)\n",
    "      ###          current_state = X[current_step,samp]\n",
    "      ###          r = np.random.rand()\n",
    "      ###         for next_state in range(States):\n",
    "      ###             r -= P[current_state, next_state]\n",
    "      ###              if r < 0:\n",
    "      ###                  X[next_step, samp] = next_state\n",
    "      ###                  break \n",
    "            epdf[next_step,:] = np.histogram(X[next_step,:], normed=True, bins=range(States+1))[0]\n",
    "            startStep += 1\n",
    "\n",
    "    printltx(r\"I did \"+str(Steps)+\" steps with \"+str(Samples)+\" samples. The last \"+str(Records)+\" distributions are written as rows below.\")\n",
    "    display(epdf)\n",
    "    printltx(r\"The average of these distributions is \"+ltxmtx(np.mean(epdf,0)))\n",
    "    printltx(r\"The average number of steps taken by the mouse would be  \"+ str(step))\n",
    "    display(plt.hist(epdf[Records-1,:]))\n",
    "    \n",
    "    \n",
    "##############\n",
    "###METHOD 2###\n",
    "##############\n",
    "def matrix_evolution(P, phi, Steps, Records):\n",
    "    print(\"\\n\")\n",
    "    printltx(r\"Begin the Second Method\")\n",
    "    printltx(r\"Evolving \"+str(Steps)+\" steps via matrix multiplication.\")\n",
    "    tpdf = np.zeros([Records,States], dtype = float)\n",
    "    tpdf[0,:] = phi[:]\n",
    "    for step in range(Steps):\n",
    "        current_step = step%Records\n",
    "        next_step = (step+1)%Records\n",
    "        tpdf[next_step,:] = tpdf[current_step,:].dot(P)\n",
    "    tpdf = np.roll(tpdf, Records-next_step-1,axis=0)\n",
    "    printltx(r\"I did \"+str(Steps)+\" steps. The last \"+str(Records)+\" distributions are written as rows below.\")\n",
    "    display(tpdf)\n",
    "    printltx(r\"The average of these distributions is \"+ltxmtx(np.mean(tpdf,0)))\n",
    "    printltx(r\"The average number of steps taken by the mouse would be  \"+ )\n",
    "   \n",
    "        \n",
    "def normalize_rows(L):\n",
    "    tol = 0.001\n",
    "    n = L.shape[0]\n",
    "    for i in range(n):\n",
    "        s = np.sum(L[i,:])\n",
    "        if abs(s)>tol:\n",
    "            L[i,:] *= 1/s\n",
    "        else: \n",
    "            for j in range(n): \n",
    "                if abs(L[i,j]) > tol: \n",
    "                    L[i,:] *= 1/L[i,j]\n",
    "                    break\n",
    "    return L\n"
   ]
  },
  {
   "cell_type": "code",
   "execution_count": 6,
   "metadata": {
    "collapsed": false,
    "scrolled": true
   },
   "outputs": [
    {
     "data": {
      "text/latex": [
       "The Absorbing Case"
      ],
      "text/plain": [
       "<IPython.core.display.Latex object>"
      ]
     },
     "metadata": {},
     "output_type": "display_data"
    },
    {
     "data": {
      "text/latex": [
       "Transition matrix is $P=$ $\\left[\\begin{matrix}0.0 & 0.5 & 0.0 & 0.5 & 0.0 & 0.0 & 0.0 & 0.0 & 0.0\\\\0.3333 & 0.0 & 0.3333 & 0.0 & 0.3333 & 0.0 & 0.0 & 0.0 & 0.0\\\\0.0 & 0.5 & 0.0 & 0.0 & 0.0 & 0.5 & 0.0 & 0.0 & 0.0\\\\0.3333 & 0.0 & 0.0 & 0.0 & 0.3333 & 0.0 & 0.3333 & 0.0 & 0.0\\\\0.0 & 0.25 & 0.0 & 0.25 & 0.0 & 0.25 & 0.0 & 0.25 & 0.0\\\\0.0 & 0.0 & 0.3333 & 0.0 & 0.3333 & 0.0 & 0.0 & 0.0 & 0.3333\\\\0.0 & 0.0 & 0.0 & 0.0 & 0.0 & 0.0 & 1.0 & 0.0 & 0.0\\\\0.0 & 0.0 & 0.0 & 0.0 & 0.3333 & 0.0 & 0.3333 & 0.0 & 0.3333\\\\0.0 & 0.0 & 0.0 & 0.0 & 0.0 & 0.0 & 0.0 & 0.0 & 1.0\\end{matrix}\\right]$ "
      ],
      "text/plain": [
       "<IPython.core.display.Latex object>"
      ]
     },
     "metadata": {},
     "output_type": "display_data"
    },
    {
     "data": {
      "text/latex": [
       "Initial distribution $\\phi=$ $\\left[\\begin{matrix}0 & 0 & 0 & 0 & 1 & 0 & 0 & 0 & 0\\end{matrix}\\right]$ "
      ],
      "text/plain": [
       "<IPython.core.display.Latex object>"
      ]
     },
     "metadata": {},
     "output_type": "display_data"
    },
    {
     "name": "stdout",
     "output_type": "stream",
     "text": [
      "\n",
      "\n"
     ]
    },
    {
     "data": {
      "text/latex": [
       "Begin the First Method"
      ],
      "text/plain": [
       "<IPython.core.display.Latex object>"
      ]
     },
     "metadata": {},
     "output_type": "display_data"
    },
    {
     "data": {
      "text/latex": [
       "Simulating 100 steps with 100 samples."
      ],
      "text/plain": [
       "<IPython.core.display.Latex object>"
      ]
     },
     "metadata": {},
     "output_type": "display_data"
    },
    {
     "data": {
      "text/latex": [
       "I did 100 steps with 100 samples. The last 5 distributions are written as rows below."
      ],
      "text/plain": [
       "<IPython.core.display.Latex object>"
      ]
     },
     "metadata": {},
     "output_type": "display_data"
    },
    {
     "data": {
      "text/latex": [
       " $\\left[\\begin{matrix}0.0 & 0.0 & 0.0 & 0.0 & 0.0 & 0.0 & 0.46 & 0.0 & 0.54\\\\0.0 & 0.0 & 0.0 & 0.0 & 0.0 & 0.0 & 0.46 & 0.0 & 0.54\\\\0.0 & 0.0 & 0.0 & 0.0 & 0.0 & 0.0 & 0.46 & 0.0 & 0.54\\\\0.0 & 0.0 & 0.0 & 0.0 & 0.0 & 0.0 & 0.46 & 0.0 & 0.54\\\\0.0 & 0.0 & 0.0 & 0.0 & 0.0 & 0.0 & 0.46 & 0.0 & 0.54\\end{matrix}\\right]$ "
      ],
      "text/plain": [
       "array([[ 0.  ,  0.  ,  0.  ,  0.  ,  0.  ,  0.  ,  0.46,  0.  ,  0.54],\n",
       "       [ 0.  ,  0.  ,  0.  ,  0.  ,  0.  ,  0.  ,  0.46,  0.  ,  0.54],\n",
       "       [ 0.  ,  0.  ,  0.  ,  0.  ,  0.  ,  0.  ,  0.46,  0.  ,  0.54],\n",
       "       [ 0.  ,  0.  ,  0.  ,  0.  ,  0.  ,  0.  ,  0.46,  0.  ,  0.54],\n",
       "       [ 0.  ,  0.  ,  0.  ,  0.  ,  0.  ,  0.  ,  0.46,  0.  ,  0.54]])"
      ]
     },
     "metadata": {},
     "output_type": "display_data"
    },
    {
     "data": {
      "text/latex": [
       "The average of these distributions is  $\\left[\\begin{matrix}0.0 & 0.0 & 0.0 & 0.0 & 0.0 & 0.0 & 0.46 & 0.0 & 0.54\\end{matrix}\\right]$ "
      ],
      "text/plain": [
       "<IPython.core.display.Latex object>"
      ]
     },
     "metadata": {},
     "output_type": "display_data"
    },
    {
     "name": "stderr",
     "output_type": "stream",
     "text": [
      "/projects/sage/sage-6.10/local/lib/python2.7/site-packages/ipykernel/__main__.py:38: RuntimeWarning: divide by zero encountered in divide\n"
     ]
    },
    {
     "data": {
      "text/latex": [
       "The average number of steps taken by the mouse would be   $\\left[\\begin{matrix}\\infty & \\infty & \\infty & \\infty & \\infty & \\infty & 2.1739 & \\infty & 1.8519\\end{matrix}\\right]$ "
      ],
      "text/plain": [
       "<IPython.core.display.Latex object>"
      ]
     },
     "metadata": {},
     "output_type": "display_data"
    },
    {
     "name": "stdout",
     "output_type": "stream",
     "text": [
      "\n",
      "\n"
     ]
    },
    {
     "data": {
      "text/latex": [
       "Begin the Second Method"
      ],
      "text/plain": [
       "<IPython.core.display.Latex object>"
      ]
     },
     "metadata": {},
     "output_type": "display_data"
    },
    {
     "data": {
      "text/latex": [
       "Evolving 100 steps via matrix multiplication."
      ],
      "text/plain": [
       "<IPython.core.display.Latex object>"
      ]
     },
     "metadata": {},
     "output_type": "display_data"
    },
    {
     "data": {
      "text/latex": [
       "I did 100 steps. The last 5 distributions are written as rows below."
      ],
      "text/plain": [
       "<IPython.core.display.Latex object>"
      ]
     },
     "metadata": {},
     "output_type": "display_data"
    },
    {
     "data": {
      "text/latex": [
       " $\\left[\\begin{matrix}0.0 & 0.0 & 0.0 & 0.0 & 0.0 & 0.0 & 0.5 & 0.0 & 0.5\\\\0.0 & 0.0 & 0.0 & 0.0 & 0.0 & 0.0 & 0.5 & 0.0 & 0.5\\\\0.0 & 0.0 & 0.0 & 0.0 & 0.0 & 0.0 & 0.5 & 0.0 & 0.5\\\\0.0 & 0.0 & 0.0 & 0.0 & 0.0 & 0.0 & 0.5 & 0.0 & 0.5\\\\0.0 & 0.0 & 0.0 & 0.0 & 0.0 & 0.0 & 0.5 & 0.0 & 0.5\\end{matrix}\\right]$ "
      ],
      "text/plain": [
       "array([[  4.68732942e-07,   0.00000000e+00,   4.68732942e-07,\n",
       "          0.00000000e+00,   7.31951244e-07,   0.00000000e+00,\n",
       "          4.99999165e-01,   0.00000000e+00,   4.99999165e-01],\n",
       "       [  0.00000000e+00,   6.51720753e-07,   0.00000000e+00,\n",
       "          4.17354282e-07,   0.00000000e+00,   4.17354282e-07,\n",
       "          4.99999165e-01,   1.82987811e-07,   4.99999165e-01],\n",
       "       [  3.56358345e-07,   0.00000000e+00,   3.56358345e-07,\n",
       "          0.00000000e+00,   5.56472376e-07,   0.00000000e+00,\n",
       "          4.99999365e-01,   0.00000000e+00,   4.99999365e-01],\n",
       "       [  0.00000000e+00,   4.95476439e-07,   0.00000000e+00,\n",
       "          3.17297267e-07,   0.00000000e+00,   3.17297267e-07,\n",
       "          4.99999365e-01,   1.39118094e-07,   4.99999365e-01],\n",
       "       [  2.70924569e-07,   0.00000000e+00,   2.70924569e-07,\n",
       "          0.00000000e+00,   4.23063022e-07,   0.00000000e+00,\n",
       "          4.99999518e-01,   0.00000000e+00,   4.99999518e-01]])"
      ]
     },
     "metadata": {},
     "output_type": "display_data"
    },
    {
     "data": {
      "text/latex": [
       "The average of these distributions is  $\\left[\\begin{matrix}0.0 & 0.0 & 0.0 & 0.0 & 0.0 & 0.0 & 0.5 & 0.0 & 0.5\\end{matrix}\\right]$ "
      ],
      "text/plain": [
       "<IPython.core.display.Latex object>"
      ]
     },
     "metadata": {},
     "output_type": "display_data"
    },
    {
     "data": {
      "text/latex": [
       "The average number of steps taken by the mouse would be   $\\left[\\begin{matrix}4561977.7961 & 4358448.6014 & 4561977.7961 & 6805947.673 & 2921436.7639 & 6805947.673 & 2.0 & 15522844.8757 & 2.0\\end{matrix}\\right]$ "
      ],
      "text/plain": [
       "<IPython.core.display.Latex object>"
      ]
     },
     "metadata": {},
     "output_type": "display_data"
    },
    {
     "name": "stdout",
     "output_type": "stream",
     "text": [
      "\n"
     ]
    }
   ],
   "source": [
    "N = 5\n",
    "p = .5\n",
    "q = (1.0/3.0)\n",
    "m = .25\n",
    "n = 1\n",
    "P = np.array([[0,p,0,p,0,0,0,0,0],[q,0,q,0,q,0,0,0,0],[0,p,0,0,0,p,0,0,0],[q,0,0,0,q,0,q,0,0],[0,m,0,m,0,m,0,m,0],[0,0,q,0,q,0,0,0,q],[0,0,0,0,0,0,n,0,0],[0,0,0,0,q,0,q,0,q],\n",
    "              [0,0,0,0,0,0,0,0,n]])\n",
    "phi = np.array([0,0,0,0,1,0,0,0,0])\n",
    "Steps = 100\n",
    "Records = 5\n",
    "Samples = 100\n",
    "printltx(r\"The Absorbing Case\")\n",
    "printltx(r\"Transition matrix is $P=$\"+ltxmtx(P))\n",
    "printltx(r\"Initial distribution $\\phi=$\"+ltxmtx(phi))\n",
    "States = P.shape[0]\n",
    "if phi.shape[0] != States:\n",
    "    raise Exception(\"Transition matrix and initial distribution dimensions don't match!\")\n",
    "row_sums = np.sum(P,1)\n",
    "should_be = np.ones_like(row_sums)\n",
    "if np.allclose(row_sums,should_be) == False:\n",
    "    raise Exception(\"Rows of transition matrix do not all sum to 1!\")\n",
    "simulate_samples(P,phi,Steps,Records, Samples)\n",
    "matrix_evolution(P,phi,Steps,Records)\n",
    "\n",
    "print\n",
    "\n"
   ]
  },
  {
   "cell_type": "code",
   "execution_count": 11,
   "metadata": {
    "collapsed": false
   },
   "outputs": [
    {
     "name": "stdout",
     "output_type": "stream",
     "text": [
      "[ 0  1  2  3  4  5  6  7  8  9 10 11 12 13 14 15 16 17 18 19 20 21 22 23 24\n",
      " 25 26 27 28 29 30 31 32 33 34 35 36 37 38 39 40 41 42 43 44 45 46 47 48 49\n",
      " 50 51 52 53 54 55 56 57 58 59 60 61 62 63 64 65 66 67 68 69 70 71 72 73 74\n",
      " 75 76 77 78 79 80 81 82 83 84 85 86 87 88 89 90 91 92 93 94 95 96 97 98 99]\n"
     ]
    }
   ],
   "source": [
    "\n"
   ]
  },
  {
   "cell_type": "code",
   "execution_count": null,
   "metadata": {
    "collapsed": true
   },
   "outputs": [],
   "source": []
  }
 ],
 "metadata": {
  "kernelspec": {
   "display_name": "Python 2 (SageMath)",
   "language": "python",
   "name": "python2"
  },
  "language_info": {
   "codemirror_mode": {
    "name": "ipython",
    "version": 2
   },
   "file_extension": ".py",
   "mimetype": "text/x-python",
   "name": "python",
   "nbconvert_exporter": "python",
   "pygments_lexer": "ipython2",
   "version": "2.7.10"
  }
 },
 "nbformat": 4,
 "nbformat_minor": 0
}
