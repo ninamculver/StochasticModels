{
 "cells": [
  {
   "cell_type": "code",
   "execution_count": 6,
   "metadata": {
    "collapsed": false
   },
   "outputs": [
    {
     "data": {
      "text/plain": [
       "<function __main__.ltxmtx>"
      ]
     },
     "execution_count": 6,
     "metadata": {},
     "output_type": "execute_result"
    }
   ],
   "source": [
    "from IPython.display import display, Latex, Math, Markdown\n",
    "import numpy as np\n",
    "import sympy as sym\n",
    "import matplotlib\n",
    "import matplotlib.pyplot as plt\n",
    "from fractions import gcd\n",
    "from functools import reduce\n",
    "%matplotlib inline\n",
    "sym.init_printing()\n",
    "\n",
    "def printltx(s):\n",
    "    try: \n",
    "        display(Latex(s))\n",
    "    except: \n",
    "        print(s)\n",
    "def ltxmtx(A, axis = 1):\n",
    "        try: \n",
    "            if isinstance(A, np.ndarray):\n",
    "                A = A.round(4)\n",
    "            M = sym.Matrix(A)\n",
    "            sh = np.array(M.shape)\n",
    "            sz = np.prod(sh)\n",
    "            if sz == np.max(sh):\n",
    "                if axis == 0:\n",
    "                    M=M.reshape(sz,1)\n",
    "                else:\n",
    "                    M=M.reshape(1,sz)\n",
    "            return \" $\"+ sym.latex(M) + \"$ \"\n",
    "        except: \n",
    "            return A\n",
    "        \n",
    "array_f = get_ipython().display_formatter.formatters['text/latex']\n",
    "array_f.for_type('numpy.ndarray',ltxmtx)\n",
    "array_f.for_type('sympy.matrices.dense.MutableDenseMatrix', ltxmtx)"
   ]
  },
  {
   "cell_type": "code",
   "execution_count": 7,
   "metadata": {
    "collapsed": true
   },
   "outputs": [],
   "source": [
    "def compute_absorbed(v, States_in_Recurence=[]):\n",
    "    if States_in_Recurrence == []:\n",
    "        ap = [1,0]\n",
    "    else:\n",
    "        ap = [np.sum(v[states] for states in States_in_Recurrence)]\n",
    "    return np.array(ap)\n",
    "\n",
    "\n",
    "def plot_absorption(absorbed_proportions, Tolerance):\n",
    "    absorbed_proportions = np.array(absorbed_proportions)\n",
    "    absorbed_cumulative = np.sum(absorbed_proportions,axis=1) #total absorbed by all recurrence classes\n",
    "    absorbed_cumulative = absorbed_cumulative[absorbed_cumulative<1-Tolerance] #Remove tail, if simulation continued to run after complete absorption\n",
    "    absorbed_cumulative = np.append(absorbed_cumulative,1.0) #append 1.0 to end\n",
    "    absorbed_marginal = np.diff(absorbed_cumulative) #find \"newly\" absorbed proportion at each step\n",
    "    absorbed_marginal = np.insert(absorbed_marginal,0,absorbed_cumulative[0]) #np.diff shrinks array by 1 entry.  Prepend 0.0\n",
    "    times = np.arange(absorbed_marginal.shape[0])\n",
    "    printltx(r\"Absorbed proportions (by recurrence class) \"+ltxmtx(absorbed_proportions[-1]))\n",
    "    plt.bar(times,absorbed_marginal)\n",
    "    plt.show()\n",
    "    ave = absorbed_marginal.dot(times)\n",
    "    printltx(r\"Mean absorption time is \"+str(ave))\n",
    "    return\n",
    "  \n",
    "##############\n",
    "###METHOD 1###\n",
    "##############    \n",
    "    \n",
    "def simulate_samples(P,phi,Steps,Records,Samples, States_in_Recurrence, Tolerance):\n",
    "    States = P.shape[0]\n",
    "    print(\"\\n\")\n",
    "    printltx(r\"Begin the First Method\")\n",
    "    printltx(r\"Simulating \"+str(Steps)+\" steps with \"+str(Samples)+\" samples.\")\n",
    "    epdf = np.zeros([Records, States], dtype = float)\n",
    "    epdf[0,:] = phi[:]\n",
    "    \n",
    "    ap = compute_absorbed(phi, States_in_Recurrence)\n",
    "    absorbed_proportions = [ap]\n",
    "    \n",
    "    y = np.rint(phi*Samples).astype(int)\n",
    "    Samples = np.sum(y)\n",
    "    X = np.zeros([Records,Samples], dtype = int)\n",
    "    X[0,:] = np.random.choice(States, Samples, p=phi)\n",
    "    \n",
    "    startStep = 0\n",
    "    \n",
    "    while (startStep < Steps | (np.sum(ap) < 1-Tolerance)):\n",
    "        current_step = startStep%Records \n",
    "        next_step = (startStep+1)%Records\n",
    "        for samp in range(Samples):\n",
    "            current_state = X[current_step,samp]\n",
    "            r = np.random.rand()\n",
    "            for next_state in range(States):\n",
    "                r -= P[current_state, next_state]\n",
    "                if r < 0:\n",
    "                    X[next_step, samp] = next_state\n",
    "                    break \n",
    "            v = np.histogram(X[next_step, :], normed=True, bins=range(States+1))[0]\n",
    "            epdf[next_step,:] = v\n",
    "        ap = compute_absorbed(v, States_in_Recurrence)\n",
    "        absorbed_proportions.append(ap)\n",
    "        startStep+=1\n",
    "    epdf = np.roll(epdf,Records-next_step-1,axis=0)\n",
    "    printltx(r\"I did \"+str(Steps)+\" steps with \"+str(Samples)+\" samples. The last \"+str(Records)+\" distributions are written as rows below.\")\n",
    "    display(epdf)\n",
    "    printltx(r\"The average of these distributions is \"+ltxmtx(np.mean(epdf,0)))\n",
    "    plot_absorption(absorbed_proportions, Tolerance=Tolerance)\n",
    "    return \n",
    "\n",
    "    \n",
    "##############\n",
    "###METHOD 2###\n",
    "##############\n",
    "def matrix_evolution(P, phi, Steps, Records, States_in_Recurrence, Tolerance):\n",
    "    States = P.shape[0]\n",
    "    print(\"\\n\")\n",
    "    printltx(r\"Begin the Second Method\")\n",
    "    printltx(r\"Evolving \"+str(Steps)+\" steps via matrix multiplication.\")\n",
    "    tpdf = np.zeros([Records,States], dtype = float)\n",
    "    tpdf[0,:] = phi[:]\n",
    "    ap = compute_absorbed(phi, States_in_Recurrence)\n",
    "    absorbed_proportions = [ap]\n",
    "    startStep = 0           \n",
    "    while (startStep < Steps) | (np.sum(ap) < 1-Tolerance): \n",
    "        current_step = startStep%Records\n",
    "        next_step = (startStep+1)%Records\n",
    "        tpdf[next_step,:] = tpdf[current_step,:].dot(P)\n",
    "                             \n",
    "        ap = compute_absorbed(tpdf[next_step, :], States_in_Recurrence)\n",
    "        absorbed_proportions.append(ap)\n",
    "        startStep += 1\n",
    "           \n",
    "    tpdf = np.roll(tpdf, Records-next_step-1,axis=0)\n",
    "    printltx(r\"I did \"+str(Steps)+\" steps. The last \"+str(Records)+\" distributions are written as rows below.\")\n",
    "    display(tpdf)\n",
    "    printltx(r\"The average of these distributions is \"+ltxmtx(np.mean(tpdf,0)))\n",
    "    plot_absorption(absorbed_proportions,Tolerance=Tolerance)\n",
    "    return\n",
    "\n",
    "\n",
    "    \n",
    "##############\n",
    "###METHOD 3###\n",
    "##############\n",
    "\n",
    "\n",
    "def support(vec):\n",
    "    return np.nonzero(vec)[0]    \n",
    "\n",
    "def normalize_vec(vec):\n",
    "    Tolerance = 0.001\n",
    "    s = np.sum(vec)\n",
    "    if np.abs(s)<Tolerance:\n",
    "        s = vec[support(vec)][0]\n",
    "    return vec/s\n",
    "\n",
    "def normalize_rows(P):\n",
    "    return np.apply_along_axis(normalize_vec,1,P)\n",
    "    \n",
    "def eigen_future(P,phi):\n",
    "    States = P.shape[0]\n",
    "    print(\"\\n\")\n",
    "    printltx(r\"Using eigenvectors and eigenvalues to find long term behavior.\")\n",
    "    (evals,LT) = np.linalg.eig(P.T) #this does the transpose of the matrix\n",
    "    L = LT.T    \n",
    "    \n",
    "    Len = np.abs(evals).round(4)   \n",
    "    Re = np.real(evals).round(4)\n",
    "    Im = np.imag(evals).round(4)    \n",
    "    Fs = [States-support(vec)[0] for vec in L] \n",
    "    sort = np.lexsort([Fs,Im,Re,Len])\n",
    "    sort = sort[::-1] \n",
    "    evals = evals[sort]\n",
    "    L = L[sort]\n",
    "    Len = Len[sort]\n",
    "    Re = Re[sort]\n",
    "    Im = Im[sort]\n",
    "    \n",
    "    L = normalize_rows(L)\n",
    "    R = np.linalg.inv(L)\n",
    "    D = np.diag(evals)\n",
    "    printltx(r\"left eigenvectors = rows of \"+ltxmtx(L)+\",  $\\lambda =$\"+ltxmtx(evals,0)+\",  $| \\lambda | =$\"+ltxmtx(np.abs(evals),0))\n",
    "\n",
    "    evals_live = evals.copy()\n",
    "    evals_live[Len<1] = 0    \n",
    "    vanish = L[Len<1]\n",
    "    invar = L[Re>=1]\n",
    "    persist = L[(Len>=1) & (Re<1)]\n",
    "    \n",
    "    number_recurrenceClass = invar.shape[0]\n",
    "    states_recurrenceClass = [support(pi).tolist() for pi in invar]\n",
    "    persist_recurrenceClass = [[] for r in invar]\n",
    "    for (p,vec) in enumerate(persist):\n",
    "        for cl,st in enumerate(states_recurrenceClass):\n",
    "            if set(support(vec)).issubset(set(st)):\n",
    "                persist_recurrenceClass[cl].append(p)\n",
    "                break\n",
    "    period_recurrenceClass = [1+len(per) for per in persist_recurrenceClass]\n",
    "\n",
    "    recurrent_states = np.hstack(states_recurrenceClass)\n",
    "    all_states = set(range(States))    \n",
    "    transient_states = all_states - set(recurrent_states)\n",
    "    transient_states = np.array(sorted(transient_states),dtype=int)\n",
    "    num_recurrent_states = len(recurrent_states)\n",
    "    num_transient_states = len(transient_states)    \n",
    "\n",
    "    for (cl,states) in enumerate(states_recurrenceClass):\n",
    "        period = period_recurrenceClass[cl]\n",
    "        print(\"\\n\\n\")\n",
    "        printltx(r\"Recurrence Class \"+str(cl))\n",
    "        printltx(r\"States = \"+ltxmtx(states))        \n",
    "        printltx(\"Period = \"+str(period))\n",
    "        printltx(r\"The stationary/invariant distribution for this recurrence class is:\")\n",
    "        printltx(r\"$\\vec{\\pi} = $\"+ltxmtx(invar[cl]))\n",
    "        if period > 1:\n",
    "            printltx(\"Other persistent eigenvectors for this recurrence class are:\")\n",
    "            for per in persist_recurrenceClass[cl]:\n",
    "                printltx(r\"$\\vec{v} = $\"+ltxmtx(persist[per]))    \n",
    "    print(\"\\n\\n\")\n",
    "    printltx(r\"Transient States\")\n",
    "    printltx(r\"States \"+ltxmtx(transient_states))\n",
    "    if vanish.shape[0]>0:\n",
    "        printltx(r\"Vanishing eigenvectors are:\")\n",
    "        for v in vanish:\n",
    "            printltx(r\"$\\vec{v} = $\"+ltxmtx(v))\n",
    "\n",
    "    if number_recurrenceClass == 1:\n",
    "        period_of_chain = period_recurrenceClass[0]\n",
    "    else:\n",
    "        gcd_periods = reduce(gcd,period_recurrenceClass)\n",
    "        period_chain = int(np.prod(period_recurrenceClass)/gcd_periods)        \n",
    "    \n",
    "    pdf = np.zeros([period_chain,States])\n",
    "    Dp = np.diag(evals_live)    \n",
    "    for step in range(period_chain):\n",
    "        pdf[step,:] = phi.dot(R).dot(Dp**(step+1)).dot(L)\n",
    "    printltx(r\"The analysis via eigenvectors says that, in the long run, this system should osciliate through the \"+str(period_chain)+\" distributions below.\")\n",
    "    display(pdf)\n",
    "    printltx(r\"The average of these distributions is \"+ltxmtx(np.mean(pdf,0)))\n",
    "\n",
    "    perm = np.hstack([recurrent_states,transient_states])    \n",
    "    Pbar = P.copy()\n",
    "    Pbar = Pbar[perm,:]\n",
    "    Pbar = Pbar[:,perm]    \n",
    "    \n",
    "    R = Pbar[:num_recurrent_states:,:num_recurrent_states]\n",
    "    S = Pbar[num_recurrent_states:,:num_recurrent_states]\n",
    "    Q = Pbar[num_recurrent_states:,num_recurrent_states:]\n",
    "    Z = Pbar[:num_recurrent_states,num_recurrent_states:]\n",
    "    \n",
    "    I = np.eye(Q.shape[0])\n",
    "    M = np.linalg.inv(I-Q)\n",
    "    WhenAbsorbed = np.sum(M,axis=1)\n",
    "    WhereAbsorbed = M.dot(S)\n",
    "    WhereAbsorbedContracted = np.zeros([num_transient_states, number_recurrenceClass])\n",
    "    start = 0\n",
    "    end = 0\n",
    "    for (cl,states) in enumerate(states_recurrenceClass):\n",
    "        start = end\n",
    "        end += len(states)\n",
    "        WhereAbsorbedContracted[:,cl] = np.sum(WhereAbsorbed[:,start:end],axis=1)\n",
    "    \n",
    "    print(\"\\n\\n\")\n",
    "    printltx(r\"Now we relabel the states so that recurrence classes are together and transient states are last.\")\n",
    "    printltx(r\"Here is the relabelling \"+ltxmtx(perm,0)+\" $\\mapsto$ \"+ltxmtx(np.arange(States),0))\n",
    "    printltx(r\"This permutes the rows and columns of $P$ into $\\bar{P}=$ \"+ltxmtx(Pbar))\n",
    "    printltx(r\"The following top, left submatrix corresponds to recurrent $\\to$ recurrent transitions $R=$ \"+ltxmtx(R))\n",
    "    printltx(r\"The following bottom, left submatrix corresponds to transient $\\to$ recurrent transitions $S=$ \"+ltxmtx(S))\n",
    "    printltx(r\"The following bottom, right submatrix corresponds to transient $\\to$ transient transitions $Q=$ \"+ltxmtx(Q))\n",
    "    printltx(r\"The following top, right submatrix corresponds to recurrent $\\to$ transient transitions $Z=$ \"+ltxmtx(Z))\n",
    "    printltx(r\"The matrix directly above had better contain all zeros.\")\n",
    "    printltx(r\"As stated in Lawler, we compute $M=(I-Q)^{-1}=$ \"+ltxmtx(M))\n",
    "    printltx(r\"The $(i,j)$ entry of $M$ is the expected number of visits to state $j+\"+str(num_recurrent_states)+\"$ (transient) if chain starts at state $i+\"+str(num_recurrent_states)+\"$ (transient).\")\n",
    "    printltx(r\"So the sum across row $i$ is the expected absorption time if chain starts at state $i$\")\n",
    "    printltx(r\"I compute these expected absorption times to be \"+ltxmtx(WhenAbsorbed,0))\n",
    "    printltx(r\"Now, for absorption probabilities.  As stated in Lawler, the $(i,j)$ entry of $MS$ is the probability of absorption at state $j$ (recurrent) if chain starts at state $i+\"+str(num_recurrent_states)+\"$ (transient).\")\n",
    "    printltx(r\"I compute these absorption probabilities to be \"+ltxmtx(WhereAbsorbed))\n",
    "    printltx(r\"If we contract recurrent classes, this becomes\"+ltxmtx(WhereAbsorbedContracted))\n",
    "    printltx(r\"Where the $(i,j)$ entry is the probability of absorption into recurrence class $j$ if chain starts if chain starts at state $i+\"+str(num_recurrent_states)+\"$ (transient).\")\n",
    "    return\n"
   ]
  },
  {
   "cell_type": "code",
   "execution_count": 9,
   "metadata": {
    "collapsed": false,
    "scrolled": false
   },
   "outputs": [
    {
     "data": {
      "text/latex": [
       "The Absorbing Case"
      ],
      "text/plain": [
       "<IPython.core.display.Latex object>"
      ]
     },
     "metadata": {},
     "output_type": "display_data"
    },
    {
     "data": {
      "text/latex": [
       "Transition matrix is $P=$ $\\left[\\begin{matrix}0.0 & 0.5 & 0.0 & 0.5 & 0.0 & 0.0 & 0.0 & 0.0 & 0.0\\\\0.3333 & 0.0 & 0.3333 & 0.0 & 0.3333 & 0.0 & 0.0 & 0.0 & 0.0\\\\0.0 & 0.5 & 0.0 & 0.0 & 0.0 & 0.5 & 0.0 & 0.0 & 0.0\\\\0.3333 & 0.0 & 0.0 & 0.0 & 0.3333 & 0.0 & 0.3333 & 0.0 & 0.0\\\\0.0 & 0.25 & 0.0 & 0.25 & 0.0 & 0.25 & 0.0 & 0.25 & 0.0\\\\0.0 & 0.0 & 0.3333 & 0.0 & 0.3333 & 0.0 & 0.0 & 0.0 & 0.3333\\\\0.0 & 0.0 & 0.0 & 0.0 & 0.0 & 0.0 & 1.0 & 0.0 & 0.0\\\\0.0 & 0.0 & 0.0 & 0.0 & 0.3333 & 0.0 & 0.3333 & 0.0 & 0.3333\\\\0.0 & 0.0 & 0.0 & 0.0 & 0.0 & 0.0 & 0.0 & 0.0 & 1.0\\end{matrix}\\right]$ "
      ],
      "text/plain": [
       "<IPython.core.display.Latex object>"
      ]
     },
     "metadata": {},
     "output_type": "display_data"
    },
    {
     "data": {
      "text/latex": [
       "Initial distribution $\\phi=$ $\\left[\\begin{matrix}1 & 0 & 0 & 0 & 0 & 0 & 0 & 0 & 0\\end{matrix}\\right]$ "
      ],
      "text/plain": [
       "<IPython.core.display.Latex object>"
      ]
     },
     "metadata": {},
     "output_type": "display_data"
    },
    {
     "name": "stdout",
     "output_type": "stream",
     "text": [
      "\n",
      "\n"
     ]
    },
    {
     "data": {
      "text/latex": [
       "Begin the First Method"
      ],
      "text/plain": [
       "<IPython.core.display.Latex object>"
      ]
     },
     "metadata": {},
     "output_type": "display_data"
    },
    {
     "data": {
      "text/latex": [
       "Simulating 100 steps with 100 samples."
      ],
      "text/plain": [
       "<IPython.core.display.Latex object>"
      ]
     },
     "metadata": {},
     "output_type": "display_data"
    },
    {
     "data": {
      "text/latex": [
       "I did 100 steps with 100 samples. The last 5 distributions are written as rows below."
      ],
      "text/plain": [
       "<IPython.core.display.Latex object>"
      ]
     },
     "metadata": {},
     "output_type": "display_data"
    },
    {
     "data": {
      "text/latex": [
       " $\\left[\\begin{matrix}0.0 & 0.0 & 0.0 & 0.0 & 0.0 & 0.0 & 0.62 & 0.0 & 0.38\\\\0.0 & 0.0 & 0.0 & 0.0 & 0.0 & 0.0 & 0.62 & 0.0 & 0.38\\\\0.0 & 0.0 & 0.0 & 0.0 & 0.0 & 0.0 & 0.62 & 0.0 & 0.38\\\\0.0 & 0.0 & 0.0 & 0.0 & 0.0 & 0.0 & 0.62 & 0.0 & 0.38\\\\0.0 & 0.0 & 0.0 & 0.0 & 0.0 & 0.0 & 0.62 & 0.0 & 0.38\\end{matrix}\\right]$ "
      ],
      "text/plain": [
       "array([[ 0.  ,  0.  ,  0.  ,  0.  ,  0.  ,  0.  ,  0.62,  0.  ,  0.38],\n",
       "       [ 0.  ,  0.  ,  0.  ,  0.  ,  0.  ,  0.  ,  0.62,  0.  ,  0.38],\n",
       "       [ 0.  ,  0.  ,  0.  ,  0.  ,  0.  ,  0.  ,  0.62,  0.  ,  0.38],\n",
       "       [ 0.  ,  0.  ,  0.  ,  0.  ,  0.  ,  0.  ,  0.62,  0.  ,  0.38],\n",
       "       [ 0.  ,  0.  ,  0.  ,  0.  ,  0.  ,  0.  ,  0.62,  0.  ,  0.38]])"
      ]
     },
     "metadata": {},
     "output_type": "display_data"
    },
    {
     "data": {
      "text/latex": [
       "The average of these distributions is  $\\left[\\begin{matrix}0.0 & 0.0 & 0.0 & 0.0 & 0.0 & 0.0 & 0.62 & 0.0 & 0.38\\end{matrix}\\right]$ "
      ],
      "text/plain": [
       "<IPython.core.display.Latex object>"
      ]
     },
     "metadata": {},
     "output_type": "display_data"
    },
    {
     "data": {
      "text/latex": [
       "Absorbed proportions (by recurrence class)  $\\left[\\begin{matrix}1.0\\end{matrix}\\right]$ "
      ],
      "text/plain": [
       "<IPython.core.display.Latex object>"
      ]
     },
     "metadata": {},
     "output_type": "display_data"
    },
    {
     "data": {
      "image/png": "[encoded data removed]",
      "text/plain": [
       "<matplotlib.figure.Figure at 0x7fa6b3da7c10>"
      ]
     },
     "metadata": {},
     "output_type": "display_data"
    },
    {
     "data": {
      "text/latex": [
       "Mean absorption time is 7.8"
      ],
      "text/plain": [
       "<IPython.core.display.Latex object>"
      ]
     },
     "metadata": {},
     "output_type": "display_data"
    },
    {
     "name": "stdout",
     "output_type": "stream",
     "text": [
      "\n",
      "\n"
     ]
    },
    {
     "data": {
      "text/latex": [
       "Begin the Second Method"
      ],
      "text/plain": [
       "<IPython.core.display.Latex object>"
      ]
     },
     "metadata": {},
     "output_type": "display_data"
    },
    {
     "data": {
      "text/latex": [
       "Evolving 100 steps via matrix multiplication."
      ],
      "text/plain": [
       "<IPython.core.display.Latex object>"
      ]
     },
     "metadata": {},
     "output_type": "display_data"
    },
    {
     "data": {
      "text/latex": [
       "I did 100 steps. The last 5 distributions are written as rows below."
      ],
      "text/plain": [
       "<IPython.core.display.Latex object>"
      ]
     },
     "metadata": {},
     "output_type": "display_data"
    },
    {
     "data": {
      "text/latex": [
       " $\\left[\\begin{matrix}0.0 & 0.0 & 0.0 & 0.0 & 0.0 & 0.0 & 0.6 & 0.0 & 0.4\\\\0.0 & 0.0 & 0.0 & 0.0 & 0.0 & 0.0 & 0.6 & 0.0 & 0.4\\\\0.0 & 0.0 & 0.0 & 0.0 & 0.0 & 0.0 & 0.6 & 0.0 & 0.4\\\\0.0 & 0.0 & 0.0 & 0.0 & 0.0 & 0.0 & 0.6 & 0.0 & 0.4\\\\0.0 & 0.0 & 0.0 & 0.0 & 0.0 & 0.0 & 0.6 & 0.0 & 0.4\\end{matrix}\\right]$ "
      ],
      "text/plain": [
       "array([[  6.00342093e-07,   0.00000000e+00,   6.00342093e-07,\n",
       "          0.00000000e+00,   9.37465885e-07,   0.00000000e+00,\n",
       "          5.99998931e-01,   0.00000000e+00,   3.99998931e-01],\n",
       "       [  0.00000000e+00,   8.34708565e-07,   0.00000000e+00,\n",
       "          5.34537518e-07,   0.00000000e+00,   5.34537518e-07,\n",
       "          5.99998931e-01,   2.34366471e-07,   3.99998931e-01],\n",
       "       [  4.56415361e-07,   0.00000000e+00,   4.56415361e-07,\n",
       "          0.00000000e+00,   7.12716690e-07,   0.00000000e+00,\n",
       "          5.99999187e-01,   0.00000000e+00,   3.99999187e-01],\n",
       "       [  0.00000000e+00,   6.34594533e-07,   0.00000000e+00,\n",
       "          4.06386853e-07,   0.00000000e+00,   4.06386853e-07,\n",
       "          5.99999187e-01,   1.78179173e-07,   3.99999187e-01],\n",
       "       [  3.46993795e-07,   0.00000000e+00,   3.46993795e-07,\n",
       "          0.00000000e+00,   5.41849137e-07,   0.00000000e+00,\n",
       "          5.99999382e-01,   0.00000000e+00,   3.99999382e-01]])"
      ]
     },
     "metadata": {},
     "output_type": "display_data"
    },
    {
     "data": {
      "text/latex": [
       "The average of these distributions is  $\\left[\\begin{matrix}0.0 & 0.0 & 0.0 & 0.0 & 0.0 & 0.0 & 0.6 & 0.0 & 0.4\\end{matrix}\\right]$ "
      ],
      "text/plain": [
       "<IPython.core.display.Latex object>"
      ]
     },
     "metadata": {},
     "output_type": "display_data"
    },
    {
     "data": {
      "text/latex": [
       "Absorbed proportions (by recurrence class)  $\\left[\\begin{matrix}1.0\\end{matrix}\\right]$ "
      ],
      "text/plain": [
       "<IPython.core.display.Latex object>"
      ]
     },
     "metadata": {},
     "output_type": "display_data"
    },
    {
     "data": {
      "image/png": "[encoded data removed]",
      "text/plain": [
       "<matplotlib.figure.Figure at 0x7fa6b3c653d0>"
      ]
     },
     "metadata": {},
     "output_type": "display_data"
    },
    {
     "data": {
      "text/latex": [
       "Mean absorption time is 8.99917231495"
      ],
      "text/plain": [
       "<IPython.core.display.Latex object>"
      ]
     },
     "metadata": {},
     "output_type": "display_data"
    },
    {
     "name": "stdout",
     "output_type": "stream",
     "text": [
      "\n",
      "\n"
     ]
    },
    {
     "data": {
      "text/latex": [
       "Using eigenvectors and eigenvalues to find long term behavior."
      ],
      "text/plain": [
       "<IPython.core.display.Latex object>"
      ]
     },
     "metadata": {},
     "output_type": "display_data"
    },
    {
     "data": {
      "text/latex": [
       "left eigenvectors = rows of  $\\left[\\begin{matrix}0.0 & 0.0 & 0.0 & 0.0 & 0.0 & 0.0 & 1.0 & 0.0 & 0.0\\\\0.0 & 0.0 & 0.0 & 0.0 & 0.0 & 0.0 & 0.0 & 0.0 & 1.0\\\\1.0 & 1.5946 & 1.0 & 1.0212 & 1.5616 & 1.0212 & -3.8231 & 0.4477 & -3.8231\\\\1.0 & -1.5946 & 1.0 & -1.0212 & 1.5616 & -1.0212 & 0.2616 & -0.4477 & 0.2616\\\\1.0 & 0.0 & -1.0 & 1.2247 & 0.0 & -1.2247 & -0.6899 & 0.0 & 0.6899\\\\1.0 & 0.0 & -1.0 & -1.2247 & 0.0 & 1.2247 & 0.2899 & 0.0 & -0.2899\\\\1.0 & 1.3303 & 1.0 & -0.5193 & -2.5616 & -0.5193 & 1.3194 & -2.369 & 1.3194\\\\1.0 & -1.3303 & 1.0 & 0.5193 & -2.5616 & 0.5193 & -0.7579 & 2.369 & -0.7579\\\\1.0 & -5.40864256097378 \\cdot 10^{31} & 5.0 & 5.40864256097378 \\cdot 10^{31} & 0.6667 & 5.40864256097378 \\cdot 10^{31} & 217892484253252.0 & -5.40864256097378 \\cdot 10^{31} & -8.72764092221074 \\cdot 10^{15}\\end{matrix}\\right]$ ,  $\\lambda =$ $\\left[\\begin{matrix}1.0\\\\1.0\\\\0.8719\\\\-0.8719\\\\0.4082\\\\-0.4082\\\\0.2703\\\\-0.2703\\\\0.0\\end{matrix}\\right]$ ,  $| \\lambda | =$ $\\left[\\begin{matrix}1.0\\\\1.0\\\\0.8719\\\\0.8719\\\\0.4082\\\\0.4082\\\\0.2703\\\\0.2703\\\\0.0\\end{matrix}\\right]$ "
      ],
      "text/plain": [
       "<IPython.core.display.Latex object>"
      ]
     },
     "metadata": {},
     "output_type": "display_data"
    },
    {
     "name": "stdout",
     "output_type": "stream",
     "text": [
      "\n",
      "\n",
      "\n"
     ]
    },
    {
     "data": {
      "text/latex": [
       "Recurrence Class 0"
      ],
      "text/plain": [
       "<IPython.core.display.Latex object>"
      ]
     },
     "metadata": {},
     "output_type": "display_data"
    },
    {
     "data": {
      "text/latex": [
       "States =  $\\left[\\begin{matrix}6\\end{matrix}\\right]$ "
      ],
      "text/plain": [
       "<IPython.core.display.Latex object>"
      ]
     },
     "metadata": {},
     "output_type": "display_data"
    },
    {
     "data": {
      "text/latex": [
       "Period = 1"
      ],
      "text/plain": [
       "<IPython.core.display.Latex object>"
      ]
     },
     "metadata": {},
     "output_type": "display_data"
    },
    {
     "data": {
      "text/latex": [
       "The stationary/invariant distribution for this recurrence class is:"
      ],
      "text/plain": [
       "<IPython.core.display.Latex object>"
      ]
     },
     "metadata": {},
     "output_type": "display_data"
    },
    {
     "data": {
      "text/latex": [
       "$\\vec{\\pi} = $ $\\left[\\begin{matrix}0.0 & 0.0 & 0.0 & 0.0 & 0.0 & 0.0 & 1.0 & 0.0 & 0.0\\end{matrix}\\right]$ "
      ],
      "text/plain": [
       "<IPython.core.display.Latex object>"
      ]
     },
     "metadata": {},
     "output_type": "display_data"
    },
    {
     "name": "stdout",
     "output_type": "stream",
     "text": [
      "\n",
      "\n",
      "\n"
     ]
    },
    {
     "data": {
      "text/latex": [
       "Recurrence Class 1"
      ],
      "text/plain": [
       "<IPython.core.display.Latex object>"
      ]
     },
     "metadata": {},
     "output_type": "display_data"
    },
    {
     "data": {
      "text/latex": [
       "States =  $\\left[\\begin{matrix}8\\end{matrix}\\right]$ "
      ],
      "text/plain": [
       "<IPython.core.display.Latex object>"
      ]
     },
     "metadata": {},
     "output_type": "display_data"
    },
    {
     "data": {
      "text/latex": [
       "Period = 1"
      ],
      "text/plain": [
       "<IPython.core.display.Latex object>"
      ]
     },
     "metadata": {},
     "output_type": "display_data"
    },
    {
     "data": {
      "text/latex": [
       "The stationary/invariant distribution for this recurrence class is:"
      ],
      "text/plain": [
       "<IPython.core.display.Latex object>"
      ]
     },
     "metadata": {},
     "output_type": "display_data"
    },
    {
     "data": {
      "text/latex": [
       "$\\vec{\\pi} = $ $\\left[\\begin{matrix}0.0 & 0.0 & 0.0 & 0.0 & 0.0 & 0.0 & 0.0 & 0.0 & 1.0\\end{matrix}\\right]$ "
      ],
      "text/plain": [
       "<IPython.core.display.Latex object>"
      ]
     },
     "metadata": {},
     "output_type": "display_data"
    },
    {
     "name": "stdout",
     "output_type": "stream",
     "text": [
      "\n",
      "\n",
      "\n"
     ]
    },
    {
     "data": {
      "text/latex": [
       "Transient States"
      ],
      "text/plain": [
       "<IPython.core.display.Latex object>"
      ]
     },
     "metadata": {},
     "output_type": "display_data"
    },
    {
     "data": {
      "text/latex": [
       "States  $\\left[\\begin{matrix}0 & 1 & 2 & 3 & 4 & 5 & 7\\end{matrix}\\right]$ "
      ],
      "text/plain": [
       "<IPython.core.display.Latex object>"
      ]
     },
     "metadata": {},
     "output_type": "display_data"
    },
    {
     "data": {
      "text/latex": [
       "Vanishing eigenvectors are:"
      ],
      "text/plain": [
       "<IPython.core.display.Latex object>"
      ]
     },
     "metadata": {},
     "output_type": "display_data"
    },
    {
     "data": {
      "text/latex": [
       "$\\vec{v} = $ $\\left[\\begin{matrix}1.0 & 1.5946 & 1.0 & 1.0212 & 1.5616 & 1.0212 & -3.8231 & 0.4477 & -3.8231\\end{matrix}\\right]$ "
      ],
      "text/plain": [
       "<IPython.core.display.Latex object>"
      ]
     },
     "metadata": {},
     "output_type": "display_data"
    },
    {
     "data": {
      "text/latex": [
       "$\\vec{v} = $ $\\left[\\begin{matrix}1.0 & -1.5946 & 1.0 & -1.0212 & 1.5616 & -1.0212 & 0.2616 & -0.4477 & 0.2616\\end{matrix}\\right]$ "
      ],
      "text/plain": [
       "<IPython.core.display.Latex object>"
      ]
     },
     "metadata": {},
     "output_type": "display_data"
    },
    {
     "data": {
      "text/latex": [
       "$\\vec{v} = $ $\\left[\\begin{matrix}1.0 & 0.0 & -1.0 & 1.2247 & 0.0 & -1.2247 & -0.6899 & 0.0 & 0.6899\\end{matrix}\\right]$ "
      ],
      "text/plain": [
       "<IPython.core.display.Latex object>"
      ]
     },
     "metadata": {},
     "output_type": "display_data"
    },
    {
     "data": {
      "text/latex": [
       "$\\vec{v} = $ $\\left[\\begin{matrix}1.0 & 0.0 & -1.0 & -1.2247 & 0.0 & 1.2247 & 0.2899 & 0.0 & -0.2899\\end{matrix}\\right]$ "
      ],
      "text/plain": [
       "<IPython.core.display.Latex object>"
      ]
     },
     "metadata": {},
     "output_type": "display_data"
    },
    {
     "data": {
      "text/latex": [
       "$\\vec{v} = $ $\\left[\\begin{matrix}1.0 & 1.3303 & 1.0 & -0.5193 & -2.5616 & -0.5193 & 1.3194 & -2.369 & 1.3194\\end{matrix}\\right]$ "
      ],
      "text/plain": [
       "<IPython.core.display.Latex object>"
      ]
     },
     "metadata": {},
     "output_type": "display_data"
    },
    {
     "data": {
      "text/latex": [
       "$\\vec{v} = $ $\\left[\\begin{matrix}1.0 & -1.3303 & 1.0 & 0.5193 & -2.5616 & 0.5193 & -0.7579 & 2.369 & -0.7579\\end{matrix}\\right]$ "
      ],
      "text/plain": [
       "<IPython.core.display.Latex object>"
      ]
     },
     "metadata": {},
     "output_type": "display_data"
    },
    {
     "data": {
      "text/latex": [
       "$\\vec{v} = $ $\\left[\\begin{matrix}1.0 & -5.40864256097378 \\cdot 10^{31} & 5.0 & 5.40864256097378 \\cdot 10^{31} & 0.6667 & 5.40864256097378 \\cdot 10^{31} & 217892484253252.0 & -5.40864256097378 \\cdot 10^{31} & -8.72764092221074 \\cdot 10^{15}\\end{matrix}\\right]$ "
      ],
      "text/plain": [
       "<IPython.core.display.Latex object>"
      ]
     },
     "metadata": {},
     "output_type": "display_data"
    },
    {
     "data": {
      "text/latex": [
       "The analysis via eigenvectors says that, in the long run, this system should osciliate through the 1 distributions below."
      ],
      "text/plain": [
       "<IPython.core.display.Latex object>"
      ]
     },
     "metadata": {},
     "output_type": "display_data"
    },
    {
     "data": {
      "text/latex": [
       " $\\left[\\begin{matrix}0.0 & 0.0 & 0.0 & 0.0 & 0.0 & 0.0 & 0.6 & 0.0 & 0.4\\end{matrix}\\right]$ "
      ],
      "text/plain": [
       "array([[ 0. ,  0. ,  0. ,  0. ,  0. ,  0. ,  0.6,  0. ,  0.4]])"
      ]
     },
     "metadata": {},
     "output_type": "display_data"
    },
    {
     "data": {
      "text/latex": [
       "The average of these distributions is  $\\left[\\begin{matrix}0.0 & 0.0 & 0.0 & 0.0 & 0.0 & 0.0 & 0.6 & 0.0 & 0.4\\end{matrix}\\right]$ "
      ],
      "text/plain": [
       "<IPython.core.display.Latex object>"
      ]
     },
     "metadata": {},
     "output_type": "display_data"
    },
    {
     "name": "stdout",
     "output_type": "stream",
     "text": [
      "\n",
      "\n",
      "\n"
     ]
    },
    {
     "data": {
      "text/latex": [
       "Now we relabel the states so that recurrence classes are together and transient states are last."
      ],
      "text/plain": [
       "<IPython.core.display.Latex object>"
      ]
     },
     "metadata": {},
     "output_type": "display_data"
    },
    {
     "data": {
      "text/latex": [
       "Here is the relabelling  $\\left[\\begin{matrix}6\\\\8\\\\0\\\\1\\\\2\\\\3\\\\4\\\\5\\\\7\\end{matrix}\\right]$  $\\mapsto$  $\\left[\\begin{matrix}0\\\\1\\\\2\\\\3\\\\4\\\\5\\\\6\\\\7\\\\8\\end{matrix}\\right]$ "
      ],
      "text/plain": [
       "<IPython.core.display.Latex object>"
      ]
     },
     "metadata": {},
     "output_type": "display_data"
    },
    {
     "data": {
      "text/latex": [
       "This permutes the rows and columns of $P$ into $\\bar{P}=$  $\\left[\\begin{matrix}1.0 & 0.0 & 0.0 & 0.0 & 0.0 & 0.0 & 0.0 & 0.0 & 0.0\\\\0.0 & 1.0 & 0.0 & 0.0 & 0.0 & 0.0 & 0.0 & 0.0 & 0.0\\\\0.0 & 0.0 & 0.0 & 0.5 & 0.0 & 0.5 & 0.0 & 0.0 & 0.0\\\\0.0 & 0.0 & 0.3333 & 0.0 & 0.3333 & 0.0 & 0.3333 & 0.0 & 0.0\\\\0.0 & 0.0 & 0.0 & 0.5 & 0.0 & 0.0 & 0.0 & 0.5 & 0.0\\\\0.3333 & 0.0 & 0.3333 & 0.0 & 0.0 & 0.0 & 0.3333 & 0.0 & 0.0\\\\0.0 & 0.0 & 0.0 & 0.25 & 0.0 & 0.25 & 0.0 & 0.25 & 0.25\\\\0.0 & 0.3333 & 0.0 & 0.0 & 0.3333 & 0.0 & 0.3333 & 0.0 & 0.0\\\\0.3333 & 0.3333 & 0.0 & 0.0 & 0.0 & 0.0 & 0.3333 & 0.0 & 0.0\\end{matrix}\\right]$ "
      ],
      "text/plain": [
       "<IPython.core.display.Latex object>"
      ]
     },
     "metadata": {},
     "output_type": "display_data"
    },
    {
     "data": {
      "text/latex": [
       "The following top, left submatrix corresponds to recurrent $\\to$ recurrent transitions $R=$  $\\left[\\begin{matrix}1.0 & 0.0\\\\0.0 & 1.0\\end{matrix}\\right]$ "
      ],
      "text/plain": [
       "<IPython.core.display.Latex object>"
      ]
     },
     "metadata": {},
     "output_type": "display_data"
    },
    {
     "data": {
      "text/latex": [
       "The following bottom, left submatrix corresponds to transient $\\to$ recurrent transitions $S=$  $\\left[\\begin{matrix}0.0 & 0.0\\\\0.0 & 0.0\\\\0.0 & 0.0\\\\0.3333 & 0.0\\\\0.0 & 0.0\\\\0.0 & 0.3333\\\\0.3333 & 0.3333\\end{matrix}\\right]$ "
      ],
      "text/plain": [
       "<IPython.core.display.Latex object>"
      ]
     },
     "metadata": {},
     "output_type": "display_data"
    },
    {
     "data": {
      "text/latex": [
       "The following bottom, right submatrix corresponds to transient $\\to$ transient transitions $Q=$  $\\left[\\begin{matrix}0.0 & 0.5 & 0.0 & 0.5 & 0.0 & 0.0 & 0.0\\\\0.3333 & 0.0 & 0.3333 & 0.0 & 0.3333 & 0.0 & 0.0\\\\0.0 & 0.5 & 0.0 & 0.0 & 0.0 & 0.5 & 0.0\\\\0.3333 & 0.0 & 0.0 & 0.0 & 0.3333 & 0.0 & 0.0\\\\0.0 & 0.25 & 0.0 & 0.25 & 0.0 & 0.25 & 0.25\\\\0.0 & 0.0 & 0.3333 & 0.0 & 0.3333 & 0.0 & 0.0\\\\0.0 & 0.0 & 0.0 & 0.0 & 0.3333 & 0.0 & 0.0\\end{matrix}\\right]$ "
      ],
      "text/plain": [
       "<IPython.core.display.Latex object>"
      ]
     },
     "metadata": {},
     "output_type": "display_data"
    },
    {
     "data": {
      "text/latex": [
       "The following top, right submatrix corresponds to recurrent $\\to$ transient transitions $Z=$  $\\left[\\begin{matrix}0.0 & 0.0 & 0.0 & 0.0 & 0.0 & 0.0 & 0.0\\\\0.0 & 0.0 & 0.0 & 0.0 & 0.0 & 0.0 & 0.0\\end{matrix}\\right]$ "
      ],
      "text/plain": [
       "<IPython.core.display.Latex object>"
      ]
     },
     "metadata": {},
     "output_type": "display_data"
    },
    {
     "data": {
      "text/latex": [
       "The matrix directly above had better contain all zeros."
      ],
      "text/plain": [
       "<IPython.core.display.Latex object>"
      ]
     },
     "metadata": {},
     "output_type": "display_data"
    },
    {
     "data": {
      "text/latex": [
       "As stated in Lawler, we compute $M=(I-Q)^{-1}=$  $\\left[\\begin{matrix}2.1 & 1.875 & 0.9 & 1.425 & 1.5 & 0.825 & 0.375\\\\1.25 & 2.6875 & 1.25 & 1.0625 & 1.75 & 1.0625 & 0.4375\\\\0.9 & 1.875 & 2.1 & 0.825 & 1.5 & 1.425 & 0.375\\\\0.95 & 1.0625 & 0.55 & 1.7875 & 1.25 & 0.5875 & 0.3125\\\\0.75 & 1.3125 & 0.75 & 0.9375 & 2.25 & 0.9375 & 0.5625\\\\0.55 & 1.0625 & 0.95 & 0.5875 & 1.25 & 1.7875 & 0.3125\\\\0.25 & 0.4375 & 0.25 & 0.3125 & 0.75 & 0.3125 & 1.1875\\end{matrix}\\right]$ "
      ],
      "text/plain": [
       "<IPython.core.display.Latex object>"
      ]
     },
     "metadata": {},
     "output_type": "display_data"
    },
    {
     "data": {
      "text/latex": [
       "The $(i,j)$ entry of $M$ is the expected number of visits to state $j+2$ (transient) if chain starts at state $i+2$ (transient)."
      ],
      "text/plain": [
       "<IPython.core.display.Latex object>"
      ]
     },
     "metadata": {},
     "output_type": "display_data"
    },
    {
     "data": {
      "text/latex": [
       "So the sum across row $i$ is the expected absorption time if chain starts at state $i$"
      ],
      "text/plain": [
       "<IPython.core.display.Latex object>"
      ]
     },
     "metadata": {},
     "output_type": "display_data"
    },
    {
     "data": {
      "text/latex": [
       "I compute these expected absorption times to be  $\\left[\\begin{matrix}9.0\\\\9.5\\\\9.0\\\\6.5\\\\7.5\\\\6.5\\\\3.5\\end{matrix}\\right]$ "
      ],
      "text/plain": [
       "<IPython.core.display.Latex object>"
      ]
     },
     "metadata": {},
     "output_type": "display_data"
    },
    {
     "data": {
      "text/latex": [
       "Now, for absorption probabilities.  As stated in Lawler, the $(i,j)$ entry of $MS$ is the probability of absorption at state $j$ (recurrent) if chain starts at state $i+2$ (transient)."
      ],
      "text/plain": [
       "<IPython.core.display.Latex object>"
      ]
     },
     "metadata": {},
     "output_type": "display_data"
    },
    {
     "data": {
      "text/latex": [
       "I compute these absorption probabilities to be  $\\left[\\begin{matrix}0.6 & 0.4\\\\0.5 & 0.5\\\\0.4 & 0.6\\\\0.7 & 0.3\\\\0.5 & 0.5\\\\0.3 & 0.7\\\\0.5 & 0.5\\end{matrix}\\right]$ "
      ],
      "text/plain": [
       "<IPython.core.display.Latex object>"
      ]
     },
     "metadata": {},
     "output_type": "display_data"
    },
    {
     "data": {
      "text/latex": [
       "If we contract recurrent classes, this becomes $\\left[\\begin{matrix}0.6 & 0.4\\\\0.5 & 0.5\\\\0.4 & 0.6\\\\0.7 & 0.3\\\\0.5 & 0.5\\\\0.3 & 0.7\\\\0.5 & 0.5\\end{matrix}\\right]$ "
      ],
      "text/plain": [
       "<IPython.core.display.Latex object>"
      ]
     },
     "metadata": {},
     "output_type": "display_data"
    },
    {
     "data": {
      "text/latex": [
       "Where the $(i,j)$ entry is the probability of absorption into recurrence class $j$ if chain starts if chain starts at state $i+2$ (transient)."
      ],
      "text/plain": [
       "<IPython.core.display.Latex object>"
      ]
     },
     "metadata": {},
     "output_type": "display_data"
    },
    {
     "name": "stdout",
     "output_type": "stream",
     "text": [
      "\n"
     ]
    }
   ],
   "source": [
    "N = 5\n",
    "p = .5\n",
    "q = (1.0/3.0)\n",
    "m = .25\n",
    "n = 1\n",
    "P = np.array([[0,p,0,p,0,0,0,0,0],[q,0,q,0,q,0,0,0,0],[0,p,0,0,0,p,0,0,0],[q,0,0,0,q,0,q,0,0],[0,m,0,m,0,m,0,m,0],[0,0,q,0,q,0,0,0,q],[0,0,0,0,0,0,n,0,0],[0,0,0,0,q,0,q,0,q],\n",
    "              [0,0,0,0,0,0,0,0,n]])\n",
    "phi = np.array([1,0,0,0,0,0,0,0,0])\n",
    "Steps = 100\n",
    "Records = 5\n",
    "Samples = 100\n",
    "Tolerance = .0001\n",
    "States_in_Recurrence = [[6],[8]]\n",
    "printltx(r\"The Absorbing Case\")\n",
    "printltx(r\"Transition matrix is $P=$\"+ltxmtx(P))\n",
    "printltx(r\"Initial distribution $\\phi=$\"+ltxmtx(phi))\n",
    "States = P.shape[0]\n",
    "if phi.shape[0] != States:\n",
    "    raise Exception(\"Transition matrix and initial distribution dimensions don't match!\")\n",
    "row_sums = np.sum(P,1)\n",
    "should_be = np.ones_like(row_sums)\n",
    "if np.allclose(row_sums,should_be) == False:\n",
    "    raise Exception(\"Rows of transition matrix do not all sum to 1!\")\n",
    "simulate_samples(P,phi,Steps,Records,Samples, States_in_Recurrence, Tolerance)\n",
    "matrix_evolution(P, phi, Steps, Records, States_in_Recurrence, Tolerance)\n",
    "eigen_future(P,phi)\n",
    "\n",
    "print\n",
    "\n"
   ]
  },
  {
   "cell_type": "code",
   "execution_count": 10,
   "metadata": {
    "collapsed": false,
    "scrolled": false
   },
   "outputs": [
    {
     "data": {
      "text/latex": [
       "The Absorbing Case"
      ],
      "text/plain": [
       "<IPython.core.display.Latex object>"
      ]
     },
     "metadata": {},
     "output_type": "display_data"
    },
    {
     "data": {
      "text/latex": [
       "Transition matrix is $P=$ $\\left[\\begin{matrix}0.0 & 0.5 & 0.0 & 0.5 & 0.0 & 0.0 & 0.0 & 0.0 & 0.0\\\\0.3333 & 0.0 & 0.3333 & 0.0 & 0.3333 & 0.0 & 0.0 & 0.0 & 0.0\\\\0.0 & 0.5 & 0.0 & 0.0 & 0.0 & 0.5 & 0.0 & 0.0 & 0.0\\\\0.3333 & 0.0 & 0.0 & 0.0 & 0.3333 & 0.0 & 0.3333 & 0.0 & 0.0\\\\0.0 & 0.25 & 0.0 & 0.25 & 0.0 & 0.25 & 0.0 & 0.25 & 0.0\\\\0.0 & 0.0 & 0.3333 & 0.0 & 0.3333 & 0.0 & 0.0 & 0.0 & 0.3333\\\\0.0 & 0.0 & 0.0 & 0.0 & 0.0 & 0.0 & 1.0 & 0.0 & 0.0\\\\0.0 & 0.0 & 0.0 & 0.0 & 0.3333 & 0.0 & 0.3333 & 0.0 & 0.3333\\\\0.0 & 0.0 & 0.0 & 0.0 & 0.0 & 0.0 & 0.0 & 0.0 & 1.0\\end{matrix}\\right]$ "
      ],
      "text/plain": [
       "<IPython.core.display.Latex object>"
      ]
     },
     "metadata": {},
     "output_type": "display_data"
    },
    {
     "data": {
      "text/latex": [
       "Initial distribution $\\phi=$ $\\left[\\begin{matrix}0 & 1 & 0 & 0 & 0 & 0 & 0 & 0 & 0\\end{matrix}\\right]$ "
      ],
      "text/plain": [
       "<IPython.core.display.Latex object>"
      ]
     },
     "metadata": {},
     "output_type": "display_data"
    },
    {
     "name": "stdout",
     "output_type": "stream",
     "text": [
      "\n",
      "\n"
     ]
    },
    {
     "data": {
      "text/latex": [
       "Begin the First Method"
      ],
      "text/plain": [
       "<IPython.core.display.Latex object>"
      ]
     },
     "metadata": {},
     "output_type": "display_data"
    },
    {
     "data": {
      "text/latex": [
       "Simulating 100 steps with 100 samples."
      ],
      "text/plain": [
       "<IPython.core.display.Latex object>"
      ]
     },
     "metadata": {},
     "output_type": "display_data"
    },
    {
     "data": {
      "text/latex": [
       "I did 100 steps with 100 samples. The last 5 distributions are written as rows below."
      ],
      "text/plain": [
       "<IPython.core.display.Latex object>"
      ]
     },
     "metadata": {},
     "output_type": "display_data"
    },
    {
     "data": {
      "text/latex": [
       " $\\left[\\begin{matrix}0.0 & 0.0 & 0.0 & 0.0 & 0.0 & 0.0 & 0.51 & 0.0 & 0.49\\\\0.0 & 0.0 & 0.0 & 0.0 & 0.0 & 0.0 & 0.51 & 0.0 & 0.49\\\\0.0 & 0.0 & 0.0 & 0.0 & 0.0 & 0.0 & 0.51 & 0.0 & 0.49\\\\0.0 & 0.0 & 0.0 & 0.0 & 0.0 & 0.0 & 0.51 & 0.0 & 0.49\\\\0.0 & 0.0 & 0.0 & 0.0 & 0.0 & 0.0 & 0.51 & 0.0 & 0.49\\end{matrix}\\right]$ "
      ],
      "text/plain": [
       "array([[ 0.  ,  0.  ,  0.  ,  0.  ,  0.  ,  0.  ,  0.51,  0.  ,  0.49],\n",
       "       [ 0.  ,  0.  ,  0.  ,  0.  ,  0.  ,  0.  ,  0.51,  0.  ,  0.49],\n",
       "       [ 0.  ,  0.  ,  0.  ,  0.  ,  0.  ,  0.  ,  0.51,  0.  ,  0.49],\n",
       "       [ 0.  ,  0.  ,  0.  ,  0.  ,  0.  ,  0.  ,  0.51,  0.  ,  0.49],\n",
       "       [ 0.  ,  0.  ,  0.  ,  0.  ,  0.  ,  0.  ,  0.51,  0.  ,  0.49]])"
      ]
     },
     "metadata": {},
     "output_type": "display_data"
    },
    {
     "data": {
      "text/latex": [
       "The average of these distributions is  $\\left[\\begin{matrix}0.0 & 0.0 & 0.0 & 0.0 & 0.0 & 0.0 & 0.51 & 0.0 & 0.49\\end{matrix}\\right]$ "
      ],
      "text/plain": [
       "<IPython.core.display.Latex object>"
      ]
     },
     "metadata": {},
     "output_type": "display_data"
    },
    {
     "data": {
      "text/latex": [
       "Absorbed proportions (by recurrence class)  $\\left[\\begin{matrix}1.0\\end{matrix}\\right]$ "
      ],
      "text/plain": [
       "<IPython.core.display.Latex object>"
      ]
     },
     "metadata": {},
     "output_type": "display_data"
    },
    {
     "data": {
      "image/png": "[encoded data removed]",
      "text/plain": [
       "<matplotlib.figure.Figure at 0x7fa6b3faf750>"
      ]
     },
     "metadata": {},
     "output_type": "display_data"
    },
    {
     "data": {
      "text/latex": [
       "Mean absorption time is 8.64"
      ],
      "text/plain": [
       "<IPython.core.display.Latex object>"
      ]
     },
     "metadata": {},
     "output_type": "display_data"
    },
    {
     "name": "stdout",
     "output_type": "stream",
     "text": [
      "\n",
      "\n"
     ]
    },
    {
     "data": {
      "text/latex": [
       "Begin the Second Method"
      ],
      "text/plain": [
       "<IPython.core.display.Latex object>"
      ]
     },
     "metadata": {},
     "output_type": "display_data"
    },
    {
     "data": {
      "text/latex": [
       "Evolving 100 steps via matrix multiplication."
      ],
      "text/plain": [
       "<IPython.core.display.Latex object>"
      ]
     },
     "metadata": {},
     "output_type": "display_data"
    },
    {
     "data": {
      "text/latex": [
       "I did 100 steps. The last 5 distributions are written as rows below."
      ],
      "text/plain": [
       "<IPython.core.display.Latex object>"
      ]
     },
     "metadata": {},
     "output_type": "display_data"
    },
    {
     "data": {
      "text/latex": [
       " $\\left[\\begin{matrix}0.0 & 0.0 & 0.0 & 0.0 & 0.0 & 0.0 & 0.5 & 0.0 & 0.5\\\\0.0 & 0.0 & 0.0 & 0.0 & 0.0 & 0.0 & 0.5 & 0.0 & 0.5\\\\0.0 & 0.0 & 0.0 & 0.0 & 0.0 & 0.0 & 0.5 & 0.0 & 0.5\\\\0.0 & 0.0 & 0.0 & 0.0 & 0.0 & 0.0 & 0.5 & 0.0 & 0.5\\\\0.0 & 0.0 & 0.0 & 0.0 & 0.0 & 0.0 & 0.5 & 0.0 & 0.5\\end{matrix}\\right]$ "
      ],
      "text/plain": [
       "array([[  0.00000000e+00,   1.01769638e-06,   0.00000000e+00,\n",
       "          6.51720753e-07,   0.00000000e+00,   6.51720753e-07,\n",
       "          4.99998697e-01,   2.85745131e-07,   4.99998697e-01],\n",
       "       [  5.56472376e-07,   0.00000000e+00,   5.56472376e-07,\n",
       "          0.00000000e+00,   8.68961005e-07,   0.00000000e+00,\n",
       "          4.99999009e-01,   0.00000000e+00,   4.99999009e-01],\n",
       "       [  0.00000000e+00,   7.73712627e-07,   0.00000000e+00,\n",
       "          4.95476439e-07,   0.00000000e+00,   4.95476439e-07,\n",
       "          4.99999009e-01,   2.17240251e-07,   4.99999009e-01],\n",
       "       [  4.23063022e-07,   0.00000000e+00,   4.23063022e-07,\n",
       "          0.00000000e+00,   6.60635252e-07,   0.00000000e+00,\n",
       "          4.99999247e-01,   0.00000000e+00,   4.99999247e-01],\n",
       "       [  0.00000000e+00,   5.88221835e-07,   0.00000000e+00,\n",
       "          3.76690324e-07,   0.00000000e+00,   3.76690324e-07,\n",
       "          4.99999247e-01,   1.65158813e-07,   4.99999247e-01]])"
      ]
     },
     "metadata": {},
     "output_type": "display_data"
    },
    {
     "data": {
      "text/latex": [
       "The average of these distributions is  $\\left[\\begin{matrix}0.0 & 0.0 & 0.0 & 0.0 & 0.0 & 0.0 & 0.5 & 0.0 & 0.5\\end{matrix}\\right]$ "
      ],
      "text/plain": [
       "<IPython.core.display.Latex object>"
      ]
     },
     "metadata": {},
     "output_type": "display_data"
    },
    {
     "data": {
      "text/latex": [
       "Absorbed proportions (by recurrence class)  $\\left[\\begin{matrix}1.0\\end{matrix}\\right]$ "
      ],
      "text/plain": [
       "<IPython.core.display.Latex object>"
      ]
     },
     "metadata": {},
     "output_type": "display_data"
    },
    {
     "data": {
      "image/png": "[encoded data removed]",
      "text/plain": [
       "<matplotlib.figure.Figure at 0x7fa6b40e2190>"
      ]
     },
     "metadata": {},
     "output_type": "display_data"
    },
    {
     "data": {
      "text/latex": [
       "Mean absorption time is 9.49923279765"
      ],
      "text/plain": [
       "<IPython.core.display.Latex object>"
      ]
     },
     "metadata": {},
     "output_type": "display_data"
    },
    {
     "name": "stdout",
     "output_type": "stream",
     "text": [
      "\n",
      "\n"
     ]
    },
    {
     "data": {
      "text/latex": [
       "Using eigenvectors and eigenvalues to find long term behavior."
      ],
      "text/plain": [
       "<IPython.core.display.Latex object>"
      ]
     },
     "metadata": {},
     "output_type": "display_data"
    },
    {
     "data": {
      "text/latex": [
       "left eigenvectors = rows of  $\\left[\\begin{matrix}0.0 & 0.0 & 0.0 & 0.0 & 0.0 & 0.0 & 1.0 & 0.0 & 0.0\\\\0.0 & 0.0 & 0.0 & 0.0 & 0.0 & 0.0 & 0.0 & 0.0 & 1.0\\\\1.0 & 1.5946 & 1.0 & 1.0212 & 1.5616 & 1.0212 & -3.8231 & 0.4477 & -3.8231\\\\1.0 & -1.5946 & 1.0 & -1.0212 & 1.5616 & -1.0212 & 0.2616 & -0.4477 & 0.2616\\\\1.0 & 0.0 & -1.0 & 1.2247 & 0.0 & -1.2247 & -0.6899 & 0.0 & 0.6899\\\\1.0 & 0.0 & -1.0 & -1.2247 & 0.0 & 1.2247 & 0.2899 & 0.0 & -0.2899\\\\1.0 & 1.3303 & 1.0 & -0.5193 & -2.5616 & -0.5193 & 1.3194 & -2.369 & 1.3194\\\\1.0 & -1.3303 & 1.0 & 0.5193 & -2.5616 & 0.5193 & -0.7579 & 2.369 & -0.7579\\\\1.0 & -5.40864256097378 \\cdot 10^{31} & 5.0 & 5.40864256097378 \\cdot 10^{31} & 0.6667 & 5.40864256097378 \\cdot 10^{31} & 217892484253252.0 & -5.40864256097378 \\cdot 10^{31} & -8.72764092221074 \\cdot 10^{15}\\end{matrix}\\right]$ ,  $\\lambda =$ $\\left[\\begin{matrix}1.0\\\\1.0\\\\0.8719\\\\-0.8719\\\\0.4082\\\\-0.4082\\\\0.2703\\\\-0.2703\\\\0.0\\end{matrix}\\right]$ ,  $| \\lambda | =$ $\\left[\\begin{matrix}1.0\\\\1.0\\\\0.8719\\\\0.8719\\\\0.4082\\\\0.4082\\\\0.2703\\\\0.2703\\\\0.0\\end{matrix}\\right]$ "
      ],
      "text/plain": [
       "<IPython.core.display.Latex object>"
      ]
     },
     "metadata": {},
     "output_type": "display_data"
    },
    {
     "name": "stdout",
     "output_type": "stream",
     "text": [
      "\n",
      "\n",
      "\n"
     ]
    },
    {
     "data": {
      "text/latex": [
       "Recurrence Class 0"
      ],
      "text/plain": [
       "<IPython.core.display.Latex object>"
      ]
     },
     "metadata": {},
     "output_type": "display_data"
    },
    {
     "data": {
      "text/latex": [
       "States =  $\\left[\\begin{matrix}6\\end{matrix}\\right]$ "
      ],
      "text/plain": [
       "<IPython.core.display.Latex object>"
      ]
     },
     "metadata": {},
     "output_type": "display_data"
    },
    {
     "data": {
      "text/latex": [
       "Period = 1"
      ],
      "text/plain": [
       "<IPython.core.display.Latex object>"
      ]
     },
     "metadata": {},
     "output_type": "display_data"
    },
    {
     "data": {
      "text/latex": [
       "The stationary/invariant distribution for this recurrence class is:"
      ],
      "text/plain": [
       "<IPython.core.display.Latex object>"
      ]
     },
     "metadata": {},
     "output_type": "display_data"
    },
    {
     "data": {
      "text/latex": [
       "$\\vec{\\pi} = $ $\\left[\\begin{matrix}0.0 & 0.0 & 0.0 & 0.0 & 0.0 & 0.0 & 1.0 & 0.0 & 0.0\\end{matrix}\\right]$ "
      ],
      "text/plain": [
       "<IPython.core.display.Latex object>"
      ]
     },
     "metadata": {},
     "output_type": "display_data"
    },
    {
     "name": "stdout",
     "output_type": "stream",
     "text": [
      "\n",
      "\n",
      "\n"
     ]
    },
    {
     "data": {
      "text/latex": [
       "Recurrence Class 1"
      ],
      "text/plain": [
       "<IPython.core.display.Latex object>"
      ]
     },
     "metadata": {},
     "output_type": "display_data"
    },
    {
     "data": {
      "text/latex": [
       "States =  $\\left[\\begin{matrix}8\\end{matrix}\\right]$ "
      ],
      "text/plain": [
       "<IPython.core.display.Latex object>"
      ]
     },
     "metadata": {},
     "output_type": "display_data"
    },
    {
     "data": {
      "text/latex": [
       "Period = 1"
      ],
      "text/plain": [
       "<IPython.core.display.Latex object>"
      ]
     },
     "metadata": {},
     "output_type": "display_data"
    },
    {
     "data": {
      "text/latex": [
       "The stationary/invariant distribution for this recurrence class is:"
      ],
      "text/plain": [
       "<IPython.core.display.Latex object>"
      ]
     },
     "metadata": {},
     "output_type": "display_data"
    },
    {
     "data": {
      "text/latex": [
       "$\\vec{\\pi} = $ $\\left[\\begin{matrix}0.0 & 0.0 & 0.0 & 0.0 & 0.0 & 0.0 & 0.0 & 0.0 & 1.0\\end{matrix}\\right]$ "
      ],
      "text/plain": [
       "<IPython.core.display.Latex object>"
      ]
     },
     "metadata": {},
     "output_type": "display_data"
    },
    {
     "name": "stdout",
     "output_type": "stream",
     "text": [
      "\n",
      "\n",
      "\n"
     ]
    },
    {
     "data": {
      "text/latex": [
       "Transient States"
      ],
      "text/plain": [
       "<IPython.core.display.Latex object>"
      ]
     },
     "metadata": {},
     "output_type": "display_data"
    },
    {
     "data": {
      "text/latex": [
       "States  $\\left[\\begin{matrix}0 & 1 & 2 & 3 & 4 & 5 & 7\\end{matrix}\\right]$ "
      ],
      "text/plain": [
       "<IPython.core.display.Latex object>"
      ]
     },
     "metadata": {},
     "output_type": "display_data"
    },
    {
     "data": {
      "text/latex": [
       "Vanishing eigenvectors are:"
      ],
      "text/plain": [
       "<IPython.core.display.Latex object>"
      ]
     },
     "metadata": {},
     "output_type": "display_data"
    },
    {
     "data": {
      "text/latex": [
       "$\\vec{v} = $ $\\left[\\begin{matrix}1.0 & 1.5946 & 1.0 & 1.0212 & 1.5616 & 1.0212 & -3.8231 & 0.4477 & -3.8231\\end{matrix}\\right]$ "
      ],
      "text/plain": [
       "<IPython.core.display.Latex object>"
      ]
     },
     "metadata": {},
     "output_type": "display_data"
    },
    {
     "data": {
      "text/latex": [
       "$\\vec{v} = $ $\\left[\\begin{matrix}1.0 & -1.5946 & 1.0 & -1.0212 & 1.5616 & -1.0212 & 0.2616 & -0.4477 & 0.2616\\end{matrix}\\right]$ "
      ],
      "text/plain": [
       "<IPython.core.display.Latex object>"
      ]
     },
     "metadata": {},
     "output_type": "display_data"
    },
    {
     "data": {
      "text/latex": [
       "$\\vec{v} = $ $\\left[\\begin{matrix}1.0 & 0.0 & -1.0 & 1.2247 & 0.0 & -1.2247 & -0.6899 & 0.0 & 0.6899\\end{matrix}\\right]$ "
      ],
      "text/plain": [
       "<IPython.core.display.Latex object>"
      ]
     },
     "metadata": {},
     "output_type": "display_data"
    },
    {
     "data": {
      "text/latex": [
       "$\\vec{v} = $ $\\left[\\begin{matrix}1.0 & 0.0 & -1.0 & -1.2247 & 0.0 & 1.2247 & 0.2899 & 0.0 & -0.2899\\end{matrix}\\right]$ "
      ],
      "text/plain": [
       "<IPython.core.display.Latex object>"
      ]
     },
     "metadata": {},
     "output_type": "display_data"
    },
    {
     "data": {
      "text/latex": [
       "$\\vec{v} = $ $\\left[\\begin{matrix}1.0 & 1.3303 & 1.0 & -0.5193 & -2.5616 & -0.5193 & 1.3194 & -2.369 & 1.3194\\end{matrix}\\right]$ "
      ],
      "text/plain": [
       "<IPython.core.display.Latex object>"
      ]
     },
     "metadata": {},
     "output_type": "display_data"
    },
    {
     "data": {
      "text/latex": [
       "$\\vec{v} = $ $\\left[\\begin{matrix}1.0 & -1.3303 & 1.0 & 0.5193 & -2.5616 & 0.5193 & -0.7579 & 2.369 & -0.7579\\end{matrix}\\right]$ "
      ],
      "text/plain": [
       "<IPython.core.display.Latex object>"
      ]
     },
     "metadata": {},
     "output_type": "display_data"
    },
    {
     "data": {
      "text/latex": [
       "$\\vec{v} = $ $\\left[\\begin{matrix}1.0 & -5.40864256097378 \\cdot 10^{31} & 5.0 & 5.40864256097378 \\cdot 10^{31} & 0.6667 & 5.40864256097378 \\cdot 10^{31} & 217892484253252.0 & -5.40864256097378 \\cdot 10^{31} & -8.72764092221074 \\cdot 10^{15}\\end{matrix}\\right]$ "
      ],
      "text/plain": [
       "<IPython.core.display.Latex object>"
      ]
     },
     "metadata": {},
     "output_type": "display_data"
    },
    {
     "data": {
      "text/latex": [
       "The analysis via eigenvectors says that, in the long run, this system should osciliate through the 1 distributions below."
      ],
      "text/plain": [
       "<IPython.core.display.Latex object>"
      ]
     },
     "metadata": {},
     "output_type": "display_data"
    },
    {
     "data": {
      "text/latex": [
       " $\\left[\\begin{matrix}0.0 & 0.0 & 0.0 & 0.0 & 0.0 & 0.0 & 0.5 & 0.0 & 0.5\\end{matrix}\\right]$ "
      ],
      "text/plain": [
       "array([[ 0. ,  0. ,  0. ,  0. ,  0. ,  0. ,  0.5,  0. ,  0.5]])"
      ]
     },
     "metadata": {},
     "output_type": "display_data"
    },
    {
     "data": {
      "text/latex": [
       "The average of these distributions is  $\\left[\\begin{matrix}0.0 & 0.0 & 0.0 & 0.0 & 0.0 & 0.0 & 0.5 & 0.0 & 0.5\\end{matrix}\\right]$ "
      ],
      "text/plain": [
       "<IPython.core.display.Latex object>"
      ]
     },
     "metadata": {},
     "output_type": "display_data"
    },
    {
     "name": "stdout",
     "output_type": "stream",
     "text": [
      "\n",
      "\n",
      "\n"
     ]
    },
    {
     "data": {
      "text/latex": [
       "Now we relabel the states so that recurrence classes are together and transient states are last."
      ],
      "text/plain": [
       "<IPython.core.display.Latex object>"
      ]
     },
     "metadata": {},
     "output_type": "display_data"
    },
    {
     "data": {
      "text/latex": [
       "Here is the relabelling  $\\left[\\begin{matrix}6\\\\8\\\\0\\\\1\\\\2\\\\3\\\\4\\\\5\\\\7\\end{matrix}\\right]$  $\\mapsto$  $\\left[\\begin{matrix}0\\\\1\\\\2\\\\3\\\\4\\\\5\\\\6\\\\7\\\\8\\end{matrix}\\right]$ "
      ],
      "text/plain": [
       "<IPython.core.display.Latex object>"
      ]
     },
     "metadata": {},
     "output_type": "display_data"
    },
    {
     "data": {
      "text/latex": [
       "This permutes the rows and columns of $P$ into $\\bar{P}=$  $\\left[\\begin{matrix}1.0 & 0.0 & 0.0 & 0.0 & 0.0 & 0.0 & 0.0 & 0.0 & 0.0\\\\0.0 & 1.0 & 0.0 & 0.0 & 0.0 & 0.0 & 0.0 & 0.0 & 0.0\\\\0.0 & 0.0 & 0.0 & 0.5 & 0.0 & 0.5 & 0.0 & 0.0 & 0.0\\\\0.0 & 0.0 & 0.3333 & 0.0 & 0.3333 & 0.0 & 0.3333 & 0.0 & 0.0\\\\0.0 & 0.0 & 0.0 & 0.5 & 0.0 & 0.0 & 0.0 & 0.5 & 0.0\\\\0.3333 & 0.0 & 0.3333 & 0.0 & 0.0 & 0.0 & 0.3333 & 0.0 & 0.0\\\\0.0 & 0.0 & 0.0 & 0.25 & 0.0 & 0.25 & 0.0 & 0.25 & 0.25\\\\0.0 & 0.3333 & 0.0 & 0.0 & 0.3333 & 0.0 & 0.3333 & 0.0 & 0.0\\\\0.3333 & 0.3333 & 0.0 & 0.0 & 0.0 & 0.0 & 0.3333 & 0.0 & 0.0\\end{matrix}\\right]$ "
      ],
      "text/plain": [
       "<IPython.core.display.Latex object>"
      ]
     },
     "metadata": {},
     "output_type": "display_data"
    },
    {
     "data": {
      "text/latex": [
       "The following top, left submatrix corresponds to recurrent $\\to$ recurrent transitions $R=$  $\\left[\\begin{matrix}1.0 & 0.0\\\\0.0 & 1.0\\end{matrix}\\right]$ "
      ],
      "text/plain": [
       "<IPython.core.display.Latex object>"
      ]
     },
     "metadata": {},
     "output_type": "display_data"
    },
    {
     "data": {
      "text/latex": [
       "The following bottom, left submatrix corresponds to transient $\\to$ recurrent transitions $S=$  $\\left[\\begin{matrix}0.0 & 0.0\\\\0.0 & 0.0\\\\0.0 & 0.0\\\\0.3333 & 0.0\\\\0.0 & 0.0\\\\0.0 & 0.3333\\\\0.3333 & 0.3333\\end{matrix}\\right]$ "
      ],
      "text/plain": [
       "<IPython.core.display.Latex object>"
      ]
     },
     "metadata": {},
     "output_type": "display_data"
    },
    {
     "data": {
      "text/latex": [
       "The following bottom, right submatrix corresponds to transient $\\to$ transient transitions $Q=$  $\\left[\\begin{matrix}0.0 & 0.5 & 0.0 & 0.5 & 0.0 & 0.0 & 0.0\\\\0.3333 & 0.0 & 0.3333 & 0.0 & 0.3333 & 0.0 & 0.0\\\\0.0 & 0.5 & 0.0 & 0.0 & 0.0 & 0.5 & 0.0\\\\0.3333 & 0.0 & 0.0 & 0.0 & 0.3333 & 0.0 & 0.0\\\\0.0 & 0.25 & 0.0 & 0.25 & 0.0 & 0.25 & 0.25\\\\0.0 & 0.0 & 0.3333 & 0.0 & 0.3333 & 0.0 & 0.0\\\\0.0 & 0.0 & 0.0 & 0.0 & 0.3333 & 0.0 & 0.0\\end{matrix}\\right]$ "
      ],
      "text/plain": [
       "<IPython.core.display.Latex object>"
      ]
     },
     "metadata": {},
     "output_type": "display_data"
    },
    {
     "data": {
      "text/latex": [
       "The following top, right submatrix corresponds to recurrent $\\to$ transient transitions $Z=$  $\\left[\\begin{matrix}0.0 & 0.0 & 0.0 & 0.0 & 0.0 & 0.0 & 0.0\\\\0.0 & 0.0 & 0.0 & 0.0 & 0.0 & 0.0 & 0.0\\end{matrix}\\right]$ "
      ],
      "text/plain": [
       "<IPython.core.display.Latex object>"
      ]
     },
     "metadata": {},
     "output_type": "display_data"
    },
    {
     "data": {
      "text/latex": [
       "The matrix directly above had better contain all zeros."
      ],
      "text/plain": [
       "<IPython.core.display.Latex object>"
      ]
     },
     "metadata": {},
     "output_type": "display_data"
    },
    {
     "data": {
      "text/latex": [
       "As stated in Lawler, we compute $M=(I-Q)^{-1}=$  $\\left[\\begin{matrix}2.1 & 1.875 & 0.9 & 1.425 & 1.5 & 0.825 & 0.375\\\\1.25 & 2.6875 & 1.25 & 1.0625 & 1.75 & 1.0625 & 0.4375\\\\0.9 & 1.875 & 2.1 & 0.825 & 1.5 & 1.425 & 0.375\\\\0.95 & 1.0625 & 0.55 & 1.7875 & 1.25 & 0.5875 & 0.3125\\\\0.75 & 1.3125 & 0.75 & 0.9375 & 2.25 & 0.9375 & 0.5625\\\\0.55 & 1.0625 & 0.95 & 0.5875 & 1.25 & 1.7875 & 0.3125\\\\0.25 & 0.4375 & 0.25 & 0.3125 & 0.75 & 0.3125 & 1.1875\\end{matrix}\\right]$ "
      ],
      "text/plain": [
       "<IPython.core.display.Latex object>"
      ]
     },
     "metadata": {},
     "output_type": "display_data"
    },
    {
     "data": {
      "text/latex": [
       "The $(i,j)$ entry of $M$ is the expected number of visits to state $j+2$ (transient) if chain starts at state $i+2$ (transient)."
      ],
      "text/plain": [
       "<IPython.core.display.Latex object>"
      ]
     },
     "metadata": {},
     "output_type": "display_data"
    },
    {
     "data": {
      "text/latex": [
       "So the sum across row $i$ is the expected absorption time if chain starts at state $i$"
      ],
      "text/plain": [
       "<IPython.core.display.Latex object>"
      ]
     },
     "metadata": {},
     "output_type": "display_data"
    },
    {
     "data": {
      "text/latex": [
       "I compute these expected absorption times to be  $\\left[\\begin{matrix}9.0\\\\9.5\\\\9.0\\\\6.5\\\\7.5\\\\6.5\\\\3.5\\end{matrix}\\right]$ "
      ],
      "text/plain": [
       "<IPython.core.display.Latex object>"
      ]
     },
     "metadata": {},
     "output_type": "display_data"
    },
    {
     "data": {
      "text/latex": [
       "Now, for absorption probabilities.  As stated in Lawler, the $(i,j)$ entry of $MS$ is the probability of absorption at state $j$ (recurrent) if chain starts at state $i+2$ (transient)."
      ],
      "text/plain": [
       "<IPython.core.display.Latex object>"
      ]
     },
     "metadata": {},
     "output_type": "display_data"
    },
    {
     "data": {
      "text/latex": [
       "I compute these absorption probabilities to be  $\\left[\\begin{matrix}0.6 & 0.4\\\\0.5 & 0.5\\\\0.4 & 0.6\\\\0.7 & 0.3\\\\0.5 & 0.5\\\\0.3 & 0.7\\\\0.5 & 0.5\\end{matrix}\\right]$ "
      ],
      "text/plain": [
       "<IPython.core.display.Latex object>"
      ]
     },
     "metadata": {},
     "output_type": "display_data"
    },
    {
     "data": {
      "text/latex": [
       "If we contract recurrent classes, this becomes $\\left[\\begin{matrix}0.6 & 0.4\\\\0.5 & 0.5\\\\0.4 & 0.6\\\\0.7 & 0.3\\\\0.5 & 0.5\\\\0.3 & 0.7\\\\0.5 & 0.5\\end{matrix}\\right]$ "
      ],
      "text/plain": [
       "<IPython.core.display.Latex object>"
      ]
     },
     "metadata": {},
     "output_type": "display_data"
    },
    {
     "data": {
      "text/latex": [
       "Where the $(i,j)$ entry is the probability of absorption into recurrence class $j$ if chain starts if chain starts at state $i+2$ (transient)."
      ],
      "text/plain": [
       "<IPython.core.display.Latex object>"
      ]
     },
     "metadata": {},
     "output_type": "display_data"
    },
    {
     "name": "stdout",
     "output_type": "stream",
     "text": [
      "\n"
     ]
    }
   ],
   "source": [
    "N = 5\n",
    "p = .5\n",
    "q = (1.0/3.0)\n",
    "m = .25\n",
    "n = 1\n",
    "P = np.array([[0,p,0,p,0,0,0,0,0],[q,0,q,0,q,0,0,0,0],[0,p,0,0,0,p,0,0,0],[q,0,0,0,q,0,q,0,0],[0,m,0,m,0,m,0,m,0],[0,0,q,0,q,0,0,0,q],[0,0,0,0,0,0,n,0,0],[0,0,0,0,q,0,q,0,q],\n",
    "              [0,0,0,0,0,0,0,0,n]])\n",
    "phi = np.array([0,1,0,0,0,0,0,0,0])\n",
    "Steps = 100\n",
    "Records = 5\n",
    "Samples = 100\n",
    "Tolerance = .0001\n",
    "States_in_Recurrence = [[6],[8]]\n",
    "printltx(r\"The Absorbing Case\")\n",
    "printltx(r\"Transition matrix is $P=$\"+ltxmtx(P))\n",
    "printltx(r\"Initial distribution $\\phi=$\"+ltxmtx(phi))\n",
    "States = P.shape[0]\n",
    "if phi.shape[0] != States:\n",
    "    raise Exception(\"Transition matrix and initial distribution dimensions don't match!\")\n",
    "row_sums = np.sum(P,1)\n",
    "should_be = np.ones_like(row_sums)\n",
    "if np.allclose(row_sums,should_be) == False:\n",
    "    raise Exception(\"Rows of transition matrix do not all sum to 1!\")\n",
    "simulate_samples(P,phi,Steps,Records,Samples, States_in_Recurrence, Tolerance)\n",
    "matrix_evolution(P, phi, Steps, Records, States_in_Recurrence, Tolerance)\n",
    "eigen_future(P,phi)\n",
    "\n",
    "print\n",
    "\n"
   ]
  },
  {
   "cell_type": "code",
   "execution_count": null,
   "metadata": {
    "collapsed": true
   },
   "outputs": [],
   "source": []
  }
 ],
 "metadata": {
  "kernelspec": {
   "display_name": "Python 2 (SageMath)",
   "language": "python",
   "name": "python2"
  },
  "language_info": {
   "codemirror_mode": {
    "name": "ipython",
    "version": 2
   },
   "file_extension": ".py",
   "mimetype": "text/x-python",
   "name": "python",
   "nbconvert_exporter": "python",
   "pygments_lexer": "ipython2",
   "version": "2.7.10"
  }
 },
 "nbformat": 4,
 "nbformat_minor": 0
}
